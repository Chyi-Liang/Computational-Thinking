{
  "nbformat": 4,
  "nbformat_minor": 0,
  "metadata": {
    "colab": {
      "name": "梁薺-week13加分.ipynb",
      "provenance": [],
      "authorship_tag": "ABX9TyMlYvHzQ8Fm9fLAEyQC7JBN",
      "include_colab_link": true
    },
    "kernelspec": {
      "name": "python3",
      "display_name": "Python 3"
    }
  },
  "cells": [
    {
      "cell_type": "markdown",
      "metadata": {
        "id": "view-in-github",
        "colab_type": "text"
      },
      "source": [
        "<a href=\"https://colab.research.google.com/github/Chyi-Liang/Computational-Thinking/blob/master/%E6%A2%81%E8%96%BA_week13%E5%8A%A0%E5%88%86.ipynb\" target=\"_parent\"><img src=\"https://colab.research.google.com/assets/colab-badge.svg\" alt=\"Open In Colab\"/></a>"
      ]
    },
    {
      "cell_type": "code",
      "metadata": {
        "colab": {
          "base_uri": "https://localhost:8080/"
        },
        "id": "3BjdU8EwzUcW",
        "outputId": "7c5afb41-8c8a-4695-93a0-6f9e1ff86e28"
      },
      "source": [
        "# 給數字串列，將數字串列中的元素加總。\r\n",
        "## 數字串列的初值、終值、遞增值\r\n",
        "start = int(input('請輸入加總開始值？'))\r\n",
        "end = int(input('請輸入加總終⽌值？'))\r\n",
        "step = int(input('請輸入遞增減值？'))\r\n",
        "## ⽤for迴圈做加總 ＋ range()\r\n",
        "sum = 0 #初始條件\r\n",
        "for i in range(start, end, step): #判斷條件\r\n",
        "  sum = sum + i #更新條件\r\n",
        "print('i為', i, '時，累加結果為', sum)"
      ],
      "execution_count": 1,
      "outputs": [
        {
          "output_type": "stream",
          "text": [
            "請輸入加總開始值？2\n",
            "請輸入加總終⽌值？10\n",
            "請輸入遞增減值？2\n",
            "i為 8 時，累加結果為 20\n"
          ],
          "name": "stdout"
        }
      ]
    }
  ]
}