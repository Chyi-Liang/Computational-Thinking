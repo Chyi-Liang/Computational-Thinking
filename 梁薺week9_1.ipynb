{
  "nbformat": 4,
  "nbformat_minor": 0,
  "metadata": {
    "colab": {
      "name": "梁薺week9-1.ipynb",
      "provenance": [],
      "authorship_tag": "ABX9TyPzwtPTOZzb7PMqB+98PpUq",
      "include_colab_link": true
    },
    "kernelspec": {
      "name": "python3",
      "display_name": "Python 3"
    }
  },
  "cells": [
    {
      "cell_type": "markdown",
      "metadata": {
        "id": "view-in-github",
        "colab_type": "text"
      },
      "source": [
        "<a href=\"https://colab.research.google.com/github/Chyi-Liang/Computational-Thinking/blob/master/%E6%A2%81%E8%96%BAweek9_1.ipynb\" target=\"_parent\"><img src=\"https://colab.research.google.com/assets/colab-badge.svg\" alt=\"Open In Colab\"/></a>"
      ]
    },
    {
      "cell_type": "code",
      "metadata": {
        "id": "txlJivJ-Zscx",
        "outputId": "35f3d5b4-1437-4c9e-b3b5-167557a46d2b",
        "colab": {
          "base_uri": "https://localhost:8080/"
        }
      },
      "source": [
        "x = 2\n",
        "y = 5\n",
        "print(x+y)\n",
        "print(x-y)\n",
        "print(x*y)\n",
        "print(x/y)\n",
        "print(x//y)\n",
        "print(x%y)\n",
        "print(x**y)"
      ],
      "execution_count": 1,
      "outputs": [
        {
          "output_type": "stream",
          "text": [
            "7\n",
            "-3\n",
            "10\n",
            "0.4\n",
            "0\n",
            "2\n",
            "32\n"
          ],
          "name": "stdout"
        }
      ]
    },
    {
      "cell_type": "markdown",
      "metadata": {
        "id": "qqZg8OX_Z-Nf"
      },
      "source": [
        "# **標準輸入輸出**\n",
        "\n",
        "input()函數\n",
        "\n",
        "print()函數"
      ]
    },
    {
      "cell_type": "code",
      "metadata": {
        "id": "Djzo4U5RbUJE",
        "outputId": "31f25efd-97c6-4371-dfdf-2e5818ce5703",
        "colab": {
          "base_uri": "https://localhost:8080/",
          "height": 53
        }
      },
      "source": [
        "input()"
      ],
      "execution_count": 8,
      "outputs": [
        {
          "output_type": "stream",
          "text": [
            "3\n"
          ],
          "name": "stdout"
        },
        {
          "output_type": "execute_result",
          "data": {
            "application/vnd.google.colaboratory.intrinsic+json": {
              "type": "string"
            },
            "text/plain": [
              "'3'"
            ]
          },
          "metadata": {
            "tags": []
          },
          "execution_count": 8
        }
      ]
    },
    {
      "cell_type": "code",
      "metadata": {
        "id": "8KqyFtBJafKt",
        "outputId": "84b6b4bc-1cbd-4b72-80e9-6c05d84e14b0",
        "colab": {
          "base_uri": "https://localhost:8080/",
          "height": 53
        }
      },
      "source": [
        "input(\"清輸入數字?\")"
      ],
      "execution_count": 4,
      "outputs": [
        {
          "output_type": "stream",
          "text": [
            "清輸入數字?3\n"
          ],
          "name": "stdout"
        },
        {
          "output_type": "execute_result",
          "data": {
            "application/vnd.google.colaboratory.intrinsic+json": {
              "type": "string"
            },
            "text/plain": [
              "'3'"
            ]
          },
          "metadata": {
            "tags": []
          },
          "execution_count": 4
        }
      ]
    },
    {
      "cell_type": "code",
      "metadata": {
        "id": "IGos9Se1a2GD",
        "outputId": "55e984bb-e6cb-4d4c-c5e0-12c66118d203",
        "colab": {
          "base_uri": "https://localhost:8080/"
        }
      },
      "source": [
        "x = input(\"請輸入數字?\")"
      ],
      "execution_count": 5,
      "outputs": [
        {
          "output_type": "stream",
          "text": [
            "請輸入數字?3\n"
          ],
          "name": "stdout"
        }
      ]
    },
    {
      "cell_type": "code",
      "metadata": {
        "id": "x_YjBKpqbJfY",
        "outputId": "0025364f-ea98-4c64-e4b0-f3ac94e1988a",
        "colab": {
          "base_uri": "https://localhost:8080/",
          "height": 35
        }
      },
      "source": [
        "x"
      ],
      "execution_count": 6,
      "outputs": [
        {
          "output_type": "execute_result",
          "data": {
            "application/vnd.google.colaboratory.intrinsic+json": {
              "type": "string"
            },
            "text/plain": [
              "'3'"
            ]
          },
          "metadata": {
            "tags": []
          },
          "execution_count": 6
        }
      ]
    },
    {
      "cell_type": "code",
      "metadata": {
        "id": "SZh147bgbLr8",
        "outputId": "4d7c83b1-42aa-4db7-f8a7-76658c34a4e4",
        "colab": {
          "base_uri": "https://localhost:8080/"
        }
      },
      "source": [
        "print(x)"
      ],
      "execution_count": 7,
      "outputs": [
        {
          "output_type": "stream",
          "text": [
            "3\n"
          ],
          "name": "stdout"
        }
      ]
    },
    {
      "cell_type": "code",
      "metadata": {
        "id": "XQ4TPL5Lbadh",
        "outputId": "0fab8891-8bb5-4c29-f3f3-7aad8c93e02a",
        "colab": {
          "base_uri": "https://localhost:8080/"
        }
      },
      "source": [
        "print(x, 2, \"Python\")"
      ],
      "execution_count": 9,
      "outputs": [
        {
          "output_type": "stream",
          "text": [
            "3 2 Python\n"
          ],
          "name": "stdout"
        }
      ]
    },
    {
      "cell_type": "code",
      "metadata": {
        "id": "pwgg_ihndmuo",
        "outputId": "2bfd7d5c-a054-45e7-ff47-d260ecdc992c",
        "colab": {
          "base_uri": "https://localhost:8080/"
        }
      },
      "source": [
        "x = input(\"請輸入上衣的數量?\") "
      ],
      "execution_count": 10,
      "outputs": [
        {
          "output_type": "stream",
          "text": [
            "請輸入上衣的數量?5\n"
          ],
          "name": "stdout"
        }
      ]
    },
    {
      "cell_type": "code",
      "metadata": {
        "id": "VP3lTiwSeKoz"
      },
      "source": [
        "x = int(x)"
      ],
      "execution_count": 12,
      "outputs": []
    },
    {
      "cell_type": "code",
      "metadata": {
        "id": "d70Yyh7uduY5"
      },
      "source": [
        "Total = 300 * x"
      ],
      "execution_count": 13,
      "outputs": []
    },
    {
      "cell_type": "code",
      "metadata": {
        "id": "nF9B--6seIO-",
        "outputId": "0b1ca393-d01b-465b-a1a6-7cc6502e46ac",
        "colab": {
          "base_uri": "https://localhost:8080/"
        }
      },
      "source": [
        "print(Total)"
      ],
      "execution_count": 15,
      "outputs": [
        {
          "output_type": "stream",
          "text": [
            "1500\n"
          ],
          "name": "stdout"
        }
      ]
    },
    {
      "cell_type": "code",
      "metadata": {
        "id": "zr7mRf8LeRXv",
        "outputId": "d201db4e-6c92-4e32-c5ec-eb35aa02ebcb",
        "colab": {
          "base_uri": "https://localhost:8080/"
        }
      },
      "source": [
        "x = int(input(\"請輸入上衣的數量?\"))\n",
        "Total = 300 * x\n",
        "print(Total)"
      ],
      "execution_count": 17,
      "outputs": [
        {
          "output_type": "stream",
          "text": [
            "請輸入上衣的數量?5\n",
            "1500\n"
          ],
          "name": "stdout"
        }
      ]
    },
    {
      "cell_type": "markdown",
      "metadata": {
        "id": "lPl20FDYhaoZ"
      },
      "source": [
        "### **服裝訂購系統**"
      ]
    },
    {
      "cell_type": "code",
      "metadata": {
        "id": "uGvpcPUifti9",
        "outputId": "3638ff1e-3134-4d1d-83bb-14f454dc3a80",
        "colab": {
          "base_uri": "https://localhost:8080/"
        }
      },
      "source": [
        "shirt_number = int(input('請問上衣訂購數量'))\n",
        "pants_number = int(input('請問褲子訂購數量'))\n",
        "vest_number = int(input('請問背心訂購數量'))"
      ],
      "execution_count": 18,
      "outputs": [
        {
          "output_type": "stream",
          "text": [
            "請問上衣訂購數量3\n",
            "請問褲子訂購數量4\n",
            "請問背心訂購數量2\n"
          ],
          "name": "stdout"
        }
      ]
    },
    {
      "cell_type": "code",
      "metadata": {
        "id": "6VIWXyh_hP3i",
        "outputId": "c0883d9e-e0d5-4af3-c97f-dd950dc39420",
        "colab": {
          "base_uri": "https://localhost:8080/"
        }
      },
      "source": [
        "Total_dollar = shirt_number*300 + pants_number*350 + vest_number*400\n",
        "print('訂購服裝的總金額為',Total_dollar)"
      ],
      "execution_count": 19,
      "outputs": [
        {
          "output_type": "stream",
          "text": [
            "訂購服裝的總金額為 3100\n"
          ],
          "name": "stdout"
        }
      ]
    },
    {
      "cell_type": "markdown",
      "metadata": {
        "id": "CV6eRZajhTpg"
      },
      "source": [
        "# **賣場買飲料**"
      ]
    },
    {
      "cell_type": "code",
      "metadata": {
        "id": "78aOc8pZhSax",
        "outputId": "5ca14551-0530-4cd4-fda8-1b2dab7065ec",
        "colab": {
          "base_uri": "https://localhost:8080/"
        }
      },
      "source": [
        "drink_number = int(input('請輸入購買飲料的罐數'))\n",
        "total_drink = (drink_number//12)*200 + (drink_number%12)*20\n",
        "print('需花費',total_drink)"
      ],
      "execution_count": 21,
      "outputs": [
        {
          "output_type": "stream",
          "text": [
            "請輸入購買飲料的罐數30\n",
            "需花費 520\n"
          ],
          "name": "stdout"
        }
      ]
    },
    {
      "cell_type": "markdown",
      "metadata": {
        "id": "4-YLmJNHhpvA"
      },
      "source": [
        "## **求三數總和與平均**"
      ]
    },
    {
      "cell_type": "code",
      "metadata": {
        "id": "XR55T5c9huWZ",
        "outputId": "7d64ccaa-94c0-4fc6-9fc2-936e10016c51",
        "colab": {
          "base_uri": "https://localhost:8080/"
        }
      },
      "source": [
        "fir = int(input('請輸入第一次期中考成績'))\n",
        "sec = int(input('請輸入第二次期中考成績'))\n",
        "final = int(input('請輸入期末考成績'))\n",
        "sum = fir + sec + final\n",
        "avg = sum/3\n",
        "\n",
        "print('總分為', sum, '平均為', avg)"
      ],
      "execution_count": 23,
      "outputs": [
        {
          "output_type": "stream",
          "text": [
            "請輸入第一次期中考成績75\n",
            "請輸入第二次期中考成績80\n",
            "請輸入期末考成績60\n",
            "總分為 215 平均為 71.66666666666667\n"
          ],
          "name": "stdout"
        }
      ]
    }
  ]
}