{
  "nbformat": 4,
  "nbformat_minor": 0,
  "metadata": {
    "colab": {
      "name": "梁薺-week13.ipynb",
      "provenance": [],
      "authorship_tag": "ABX9TyNNgU4IIgyaIoqeA4k0tLIa",
      "include_colab_link": true
    },
    "kernelspec": {
      "name": "python3",
      "display_name": "Python 3"
    }
  },
  "cells": [
    {
      "cell_type": "markdown",
      "metadata": {
        "id": "view-in-github",
        "colab_type": "text"
      },
      "source": [
        "<a href=\"https://colab.research.google.com/github/Chyi-Liang/Computational-Thinking/blob/master/%E6%A2%81%E8%96%BA_week13.ipynb\" target=\"_parent\"><img src=\"https://colab.research.google.com/assets/colab-badge.svg\" alt=\"Open In Colab\"/></a>"
      ]
    },
    {
      "cell_type": "markdown",
      "metadata": {
        "id": "1RuIIiijtgtM"
      },
      "source": [
        "## **數字或文字的列印**"
      ]
    },
    {
      "cell_type": "code",
      "metadata": {
        "colab": {
          "base_uri": "https://localhost:8080/"
        },
        "id": "bKV6t6wKmym9",
        "outputId": "cb5a23bc-cdc6-482b-f510-9e2cdf4e3363"
      },
      "source": [
        "# 印出100個Ｈello\r\n",
        "for i in range(0,5,1):\r\n",
        "   print(\"Hello\")\r\n"
      ],
      "execution_count": 4,
      "outputs": [
        {
          "output_type": "stream",
          "text": [
            "Hello\n",
            "Hello\n",
            "Hello\n",
            "Hello\n",
            "Hello\n"
          ],
          "name": "stdout"
        }
      ]
    },
    {
      "cell_type": "markdown",
      "metadata": {
        "id": "Q_e-OlGftWTp"
      },
      "source": [
        "# **數字列印，印出range()函數值的範圍**"
      ]
    },
    {
      "cell_type": "code",
      "metadata": {
        "colab": {
          "base_uri": "https://localhost:8080/"
        },
        "id": "JMz6_LhBnR6u",
        "outputId": "3e7e326e-557a-4c9a-8fad-f8c04591614c"
      },
      "source": [
        "# [0,1,2,3,4,5]\r\n",
        "for i in range(0,5,1):\r\n",
        "  print(i)\r\n",
        "#[2,3,4,5]\r\n",
        "for i in range(2,6,1):\r\n",
        "  print(i)\r\n",
        "#[2,4,6,8]\r\n",
        "for i in range(2,10,2):\r\n",
        "  print(i)\r\n",
        "#[100,97,94,91]\r\n",
        "for i in range(100, 90, -3):\r\n",
        "  print(i)"
      ],
      "execution_count": 13,
      "outputs": [
        {
          "output_type": "stream",
          "text": [
            "0\n",
            "1\n",
            "2\n",
            "3\n",
            "4\n",
            "2\n",
            "3\n",
            "4\n",
            "5\n",
            "2\n",
            "4\n",
            "6\n",
            "8\n",
            "100\n",
            "97\n",
            "94\n",
            "91\n"
          ],
          "name": "stdout"
        }
      ]
    },
    {
      "cell_type": "markdown",
      "metadata": {
        "id": "9l7NXC4itRF8"
      },
      "source": [
        "### **數字加總**"
      ]
    },
    {
      "cell_type": "code",
      "metadata": {
        "colab": {
          "base_uri": "https://localhost:8080/"
        },
        "id": "DA8PUJ0ur5l_",
        "outputId": "ad7a0eb0-cd63-497e-d08a-af3a00949a9f"
      },
      "source": [
        "# 數字1到10之和。\r\n",
        "## 1+2+3+4+5+6+7+8+9+10=?\r\n",
        "sum = 0 # 起始條件\r\n",
        "for i in range(1, 11, 1): #數字串列[1,2,3,4,5,6,7,8,9,10]\r\n",
        "  sum = sum + i # 加總運算,變更條件\r\n",
        "print(\"Total is\", sum)"
      ],
      "execution_count": 16,
      "outputs": [
        {
          "output_type": "stream",
          "text": [
            "Total is 55\n"
          ],
          "name": "stdout"
        }
      ]
    },
    {
      "cell_type": "code",
      "metadata": {
        "colab": {
          "base_uri": "https://localhost:8080/"
        },
        "id": "MODm6yuZstmV",
        "outputId": "156d953f-c821-477d-8f33-a44509807de7"
      },
      "source": [
        "# 2. 數字1到10奇數之和。\r\n",
        "## 1+3+5+7+9 = ?\r\n",
        "sum = 0 # 起始值\r\n",
        "for i in range(1, 11, 2): # 數字串列[1,3,5,7,9]\r\n",
        "  sum = sum + i # 加總運算,變更條件\r\n",
        "print(\"Total is\", sum)\r\n"
      ],
      "execution_count": 17,
      "outputs": [
        {
          "output_type": "stream",
          "text": [
            "Total is 25\n"
          ],
          "name": "stdout"
        }
      ]
    },
    {
      "cell_type": "code",
      "metadata": {
        "colab": {
          "base_uri": "https://localhost:8080/"
        },
        "id": "Il4uIPfCtAw3",
        "outputId": "004c4ec5-244e-46c6-8daa-59e0d61c6096"
      },
      "source": [
        "# 2. 數字1到10奇數之和。\r\n",
        "## 1+3+5+7+9 = ?\r\n",
        "sum = 0 # 起始值\r\n",
        "for i in range(3, 13, 3): # 數字串列[1,3,5,7,9]\r\n",
        "  sum = sum + i # 加總運算,變更條件\r\n",
        "print(\"Total is\", sum)"
      ],
      "execution_count": 18,
      "outputs": [
        {
          "output_type": "stream",
          "text": [
            "Total is 30\n"
          ],
          "name": "stdout"
        }
      ]
    },
    {
      "cell_type": "markdown",
      "metadata": {
        "id": "gC81hz9cw3W5"
      },
      "source": [
        "## **作業**"
      ]
    },
    {
      "cell_type": "code",
      "metadata": {
        "colab": {
          "base_uri": "https://localhost:8080/"
        },
        "id": "UZew7I0CtzYR",
        "outputId": "0544cf70-f8ba-4d85-d96d-f97b56aec5ec"
      },
      "source": [
        "sum = 0 # 起始值\r\n",
        "for i in range(1, 6, 1): \r\n",
        "  sum = sum + i*i # 加總運算,變更條件\r\n",
        "print(\"Total is\", sum)\r\n"
      ],
      "execution_count": 35,
      "outputs": [
        {
          "output_type": "stream",
          "text": [
            "Total is 55\n"
          ],
          "name": "stdout"
        }
      ]
    },
    {
      "cell_type": "markdown",
      "metadata": {
        "id": "SSHDHh6xw6lA"
      },
      "source": [
        "## **加分題**"
      ]
    },
    {
      "cell_type": "code",
      "metadata": {
        "colab": {
          "base_uri": "https://localhost:8080/"
        },
        "id": "-Iq1Y-vuwl7y",
        "outputId": "c7824ad8-6de0-4a62-c25f-3fe6e1589464"
      },
      "source": [
        "# 給數字串列，將數字串列中的元素加總。\r\n",
        "## 數字串列的初值、終值、遞增值\r\n",
        "start = int(input('請輸入加總開始值？'))\r\n",
        "end = int(input('請輸入加總終⽌值？'))\r\n",
        "step = int(input('請輸入遞增減值？'))\r\n",
        "## ⽤for迴圈做加總 ＋ range()\r\n",
        "sum = 0 #初始條件\r\n",
        "for i in range(start, end, step): #判斷條件\r\n",
        "  sum = sum + i #更新條件\r\n",
        "print('i為', i, '時，累加結果為', sum)\r\n"
      ],
      "execution_count": 19,
      "outputs": [
        {
          "output_type": "stream",
          "text": [
            "請輸入加總開始值？2\n",
            "請輸入加總終⽌值？10\n",
            "請輸入遞增減值？2\n",
            "i為 8 時，累加結果為 20\n"
          ],
          "name": "stdout"
        }
      ]
    }
  ]
}