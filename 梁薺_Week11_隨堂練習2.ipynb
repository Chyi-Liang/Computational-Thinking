{
  "nbformat": 4,
  "nbformat_minor": 0,
  "metadata": {
    "colab": {
      "name": "梁薺-Week11 隨堂練習2.ipynb",
      "provenance": [],
      "authorship_tag": "ABX9TyPueIRxT9NqSlh8DE56xpjr",
      "include_colab_link": true
    },
    "kernelspec": {
      "name": "python3",
      "display_name": "Python 3"
    }
  },
  "cells": [
    {
      "cell_type": "markdown",
      "metadata": {
        "id": "view-in-github",
        "colab_type": "text"
      },
      "source": [
        "<a href=\"https://colab.research.google.com/github/Chyi-Liang/Computational-Thinking/blob/master/%E6%A2%81%E8%96%BA_Week11_%E9%9A%A8%E5%A0%82%E7%B7%B4%E7%BF%922.ipynb\" target=\"_parent\"><img src=\"https://colab.research.google.com/assets/colab-badge.svg\" alt=\"Open In Colab\"/></a>"
      ]
    },
    {
      "cell_type": "code",
      "metadata": {
        "colab": {
          "base_uri": "https://localhost:8080/"
        },
        "id": "kWKGlE2kgB2c",
        "outputId": "f26a57ba-6fc1-449b-f5c2-74b449368830"
      },
      "source": [
        "print(\"哈囉，大家好。我叫Zyxo64，是一個聊天機器人。\")\n",
        "hobby = \"我很喜歡美食東西，也喜歡養動物。今天很高興有機會來到世新大學，請大家多多指教。\"\n",
        "print( hobby )"
      ],
      "execution_count": 3,
      "outputs": [
        {
          "output_type": "stream",
          "text": [
            "哈囉，大家好。我叫Zyxo64，是一個聊天機器人。\n",
            "我很喜歡美食東西，也喜歡養動物。今天很高興有機會來到世新大學，請大家多多指教。\n"
          ],
          "name": "stdout"
        }
      ]
    },
    {
      "cell_type": "code",
      "metadata": {
        "colab": {
          "base_uri": "https://localhost:8080/"
        },
        "id": "DrJOzoqkiy7v",
        "outputId": "5ab9ba0d-6a2e-4b17-fb6f-7dc29acb58b2"
      },
      "source": [
        "# 打招呼，取得對方名字\n",
        "name = input(\"嗨！妳好，請問大名？: \")\n",
        "print(\"我叫\", name)\n",
        "print(\"你好\", name, \"很高興認識你\")"
      ],
      "execution_count": 4,
      "outputs": [
        {
          "output_type": "stream",
          "text": [
            "嗨！妳好，請問大名？: Elsie\n",
            "我叫 Elsie\n",
            "你好 Elsie 很高興認識你\n"
          ],
          "name": "stdout"
        }
      ]
    },
    {
      "cell_type": "code",
      "metadata": {
        "colab": {
          "base_uri": "https://localhost:8080/"
        },
        "id": "1nvg604KjJYn",
        "outputId": "c0144e8a-6f7a-4b5d-9f90-f5250b1dfae2"
      },
      "source": [
        "# 從使用者取得今年年份\n",
        "year = input(\"請問一下今年是西元2020年，那是民國幾年呢？ \")\n",
        "print(\"對！應該沒錯，謝謝妳！\")\n",
        "# 請使用者猜年齡\n",
        "myage = int(input(\"再猜猜看我今年幾歲？ \"))\n",
        "print(\"哇！你好聰明，我今年的確\", myage)\n",
        "# 計算聊天機器人滿100歲的年份\n",
        "nyears = 100 - myage\n",
        "print(\"我再\", nyears, \"年就滿100歲了。\")\n",
        "print(\"到時候是西元\", int(year) + nyears + 1911, \"年\") # 將今年年份轉換為整數"
      ],
      "execution_count": 8,
      "outputs": [
        {
          "output_type": "stream",
          "text": [
            "請問一下今年是西元2020年，那是民國幾年呢？ 109\n",
            "對！應該沒錯，謝謝妳！\n",
            "再猜猜看我今年幾歲？ 20\n",
            "哇！你好聰明，我今年的確 20\n",
            "我再 80 年就滿100歲了。\n",
            "到時候是西元 2100 年\n"
          ],
          "name": "stdout"
        }
      ]
    },
    {
      "cell_type": "code",
      "metadata": {
        "colab": {
          "base_uri": "https://localhost:8080/"
        },
        "id": "6TQu4Y11kRDR",
        "outputId": "cb140e08-b53e-413d-edf1-9b1eb4dd630f"
      },
      "source": [
        "# 食物話題\n",
        "print(\"我喜歡巧克力，也喜歡嘗試各種新食物。\")\n",
        "food = input(\"你呢。你最喜歡的食物是什麼？： \")\n",
        "print(\"我也喜歡\", food)\n",
        "question = \"你多久吃一次\" + food + \"?: \"\n",
        "howoften = input(question)\n",
        "print(\"真有趣。不知道這樣對健康好不好！\")"
      ],
      "execution_count": 9,
      "outputs": [
        {
          "output_type": "stream",
          "text": [
            "我喜歡巧克力，也喜歡嘗試各種新食物。\n",
            "你呢。你最喜歡的食物是什麼？： Pizza\n",
            "我也喜歡 Pizza\n",
            "你多久吃一次Pizza?: Everyday\n",
            "真有趣。不知道這樣對健康好不好！\n"
          ],
          "name": "stdout"
        }
      ]
    },
    {
      "cell_type": "code",
      "metadata": {
        "colab": {
          "base_uri": "https://localhost:8080/"
        },
        "id": "TMPSpf83lH98",
        "outputId": "c6e781b9-44b8-4085-de8f-61c6b4842cc7"
      },
      "source": [
        "# 動物話題\n",
        "animal = input(\"我最喜歡的動物是長頸鹿。你呢？； \")\n",
        "print(\"我不喜歡\", animal)\n",
        "print(\"不知道\", animal, \"喜不喜歡吃\", food, \"?\")"
      ],
      "execution_count": 12,
      "outputs": [
        {
          "output_type": "stream",
          "text": [
            "我最喜歡的動物是長頸鹿。你呢？； cat\n",
            "我不喜歡 cat\n",
            "不知道 cat 喜不喜歡吃 Pizza ?\n"
          ],
          "name": "stdout"
        }
      ]
    },
    {
      "cell_type": "code",
      "metadata": {
        "colab": {
          "base_uri": "https://localhost:8080/"
        },
        "id": "YDghoEONlcSq",
        "outputId": "46674c4e-7f78-4623-d7b7-cd899258cff6"
      },
      "source": [
        "# 關於心情的對話\n",
        "feeling = input(\"你今天心情如何？； \")\n",
        "print(\"告訴我你現在\", feeling, \"的原因。 \")\n",
        "reason = input(\"為什麼： \")\n",
        "print(\"我知道了。謝謝分享。\")"
      ],
      "execution_count": 13,
      "outputs": [
        {
          "output_type": "stream",
          "text": [
            "你今天心情如何？； happy\n",
            "告訴我你現在 happy 的原因。 \n",
            "為什麼： good weather\n",
            "我知道了。謝謝分享。\n"
          ],
          "name": "stdout"
        }
      ]
    },
    {
      "cell_type": "code",
      "metadata": {
        "colab": {
          "base_uri": "https://localhost:8080/"
        },
        "id": "F8eXmYfNlrDD",
        "outputId": "45d42bc3-a5be-4cfd-adf7-3b4c5782e79e"
      },
      "source": [
        "# 道別\n",
        "print(\"今天事情真多！我累了，下次再聊。\")\n",
        "print(\"再見\", name, \"我喜歡跟你聊天！\")"
      ],
      "execution_count": 14,
      "outputs": [
        {
          "output_type": "stream",
          "text": [
            "今天事情真多！我累了，下次再聊。\n",
            "再見 Elsie 我喜歡跟你聊天！\n"
          ],
          "name": "stdout"
        }
      ]
    }
  ]
}