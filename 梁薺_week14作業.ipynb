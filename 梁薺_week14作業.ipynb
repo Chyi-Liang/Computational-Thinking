{
  "nbformat": 4,
  "nbformat_minor": 0,
  "metadata": {
    "colab": {
      "name": "梁薺-week14作業.ipynb",
      "provenance": [],
      "authorship_tag": "ABX9TyMwE1AL3d2biCeL/zjkiA2q",
      "include_colab_link": true
    },
    "kernelspec": {
      "name": "python3",
      "display_name": "Python 3"
    }
  },
  "cells": [
    {
      "cell_type": "markdown",
      "metadata": {
        "id": "view-in-github",
        "colab_type": "text"
      },
      "source": [
        "<a href=\"https://colab.research.google.com/github/Chyi-Liang/Computational-Thinking/blob/master/%E6%A2%81%E8%96%BA_week14%E4%BD%9C%E6%A5%AD.ipynb\" target=\"_parent\"><img src=\"https://colab.research.google.com/assets/colab-badge.svg\" alt=\"Open In Colab\"/></a>"
      ]
    },
    {
      "cell_type": "code",
      "metadata": {
        "colab": {
          "base_uri": "https://localhost:8080/"
        },
        "id": "82VWmS-LyxEB",
        "outputId": "adef8c3c-6ff9-4dec-aab6-b07231369cb1"
      },
      "source": [
        "people = [\"Mario\", \"Peach\", \"Luigi\", \"Daisy\", \"Toad\", \"Yoshi\"]\r\n",
        "\r\n",
        "## 計數迴圈：把names串列中的東⻄⼀個⼀個直接拿出來\r\n",
        "for i in people: #每次拿出來的東⻄暫時叫它i\r\n",
        "   \r\n",
        " dessert = [\"Star Pudding\", \"Peach Pie\", \"Popsicles\", \"Honey Cake\", \"Cookies\", \"Jelly Beans\"]\r\n",
        "for j in dessert:\r\n",
        "  print('Hi, my name is', i,'.','My favorite deseert is',j,'.') #清單東⻄都拿完就結束"
      ],
      "execution_count": 6,
      "outputs": [
        {
          "output_type": "stream",
          "text": [
            "Hi, my name is Yoshi . My favorite deseert is Star Pudding .\n",
            "Hi, my name is Yoshi . My favorite deseert is Peach Pie .\n",
            "Hi, my name is Yoshi . My favorite deseert is Popsicles .\n",
            "Hi, my name is Yoshi . My favorite deseert is Honey Cake .\n",
            "Hi, my name is Yoshi . My favorite deseert is Cookies .\n",
            "Hi, my name is Yoshi . My favorite deseert is Jelly Beans .\n"
          ],
          "name": "stdout"
        }
      ]
    }
  ]
}