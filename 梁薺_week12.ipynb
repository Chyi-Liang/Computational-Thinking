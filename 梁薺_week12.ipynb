{
  "nbformat": 4,
  "nbformat_minor": 0,
  "metadata": {
    "colab": {
      "name": "梁薺-week12.ipynb",
      "provenance": [],
      "authorship_tag": "ABX9TyMz6n+C1tHlN0uRZGhXUbC3",
      "include_colab_link": true
    },
    "kernelspec": {
      "name": "python3",
      "display_name": "Python 3"
    }
  },
  "cells": [
    {
      "cell_type": "markdown",
      "metadata": {
        "id": "view-in-github",
        "colab_type": "text"
      },
      "source": [
        "<a href=\"https://colab.research.google.com/github/Chyi-Liang/Computational-Thinking/blob/master/%E6%A2%81%E8%96%BA_week12.ipynb\" target=\"_parent\"><img src=\"https://colab.research.google.com/assets/colab-badge.svg\" alt=\"Open In Colab\"/></a>"
      ]
    },
    {
      "cell_type": "markdown",
      "metadata": {
        "id": "BQ1KQADvckX2"
      },
      "source": [
        "## **隨堂練習1:購物清單**\n",
        "試著用串列列出你最喜愛的五樣東西，當成購物清單(shopping_list)"
      ]
    },
    {
      "cell_type": "code",
      "metadata": {
        "colab": {
          "base_uri": "https://localhost:8080/"
        },
        "id": "S3FZk7yMc7Ed",
        "outputId": "7007bb5c-dd2a-4b7b-c913-8e3468fe4efe"
      },
      "source": [
        "shopping_list = ['milk', 'cat', 'movie', 'music', 'internet']\n",
        "print(shopping_list)"
      ],
      "execution_count": 5,
      "outputs": [
        {
          "output_type": "stream",
          "text": [
            "['milk', 'cat', 'movie', 'music', 'internet']\n"
          ],
          "name": "stdout"
        }
      ]
    },
    {
      "cell_type": "code",
      "metadata": {
        "colab": {
          "base_uri": "https://localhost:8080/"
        },
        "id": "NisEXe0efQvq",
        "outputId": "4f346673-eb85-4dd3-9c12-23bf7a1dc00d"
      },
      "source": [
        "#索引\n",
        "print(shopping_list[0])"
      ],
      "execution_count": 7,
      "outputs": [
        {
          "output_type": "stream",
          "text": [
            "milk\n"
          ],
          "name": "stdout"
        }
      ]
    },
    {
      "cell_type": "code",
      "metadata": {
        "colab": {
          "base_uri": "https://localhost:8080/"
        },
        "id": "u-FA3iwQff_W",
        "outputId": "c6b37e52-85c4-4b6f-b2b7-8357e6d1fa54"
      },
      "source": [
        "#變更\n",
        "shopping_list[1]= 'cat'\n",
        "print(shopping_list)"
      ],
      "execution_count": 11,
      "outputs": [
        {
          "output_type": "stream",
          "text": [
            "['milk', 'cat', 'movie', 'music', 'internet']\n"
          ],
          "name": "stdout"
        }
      ]
    },
    {
      "cell_type": "code",
      "metadata": {
        "colab": {
          "base_uri": "https://localhost:8080/"
        },
        "id": "ftNVKqnPf8np",
        "outputId": "9ffe33d4-58ba-4371-92a7-48b2a9faf263"
      },
      "source": [
        "#切片\n",
        "print(shopping_list[1:3]) #取1,2個項目"
      ],
      "execution_count": 12,
      "outputs": [
        {
          "output_type": "stream",
          "text": [
            "['cat', 'movie']\n"
          ],
          "name": "stdout"
        }
      ]
    },
    {
      "cell_type": "markdown",
      "metadata": {
        "id": "zoPHGL1egXjv"
      },
      "source": [
        "### **隨堂練習2:NBA冠軍球隊的資訊**"
      ]
    },
    {
      "cell_type": "code",
      "metadata": {
        "id": "4zBb04Ubggt1"
      },
      "source": [
        "#NBA 冠軍球隊的六筆資訊\n",
        "season = \"1995-1996\"\n",
        "team = \"Chicago Bulls\"\n",
        "coach = \"Phil Jackson\"\n",
        "records = [72, 10]\n",
        "starting = [\"Ron Harper\", \"Michael Jordan\", \"Scottie Pippen\", \"Dennis Rodman\", \"Luc Longley\"]\n",
        "champion = True\n",
        "\n",
        "#變數best_NBA 賦值串列\n",
        "best_NBA = list((season, team, coach, records, starting, champion))"
      ],
      "execution_count": 13,
      "outputs": []
    },
    {
      "cell_type": "code",
      "metadata": {
        "colab": {
          "base_uri": "https://localhost:8080/"
        },
        "id": "F1_yNC9piUQ1",
        "outputId": "768c8a1a-4b12-4cfe-eb95-ff1c38defbc4"
      },
      "source": [
        " print(best_NBA)\n",
        " print(type(best_NBA))"
      ],
      "execution_count": 15,
      "outputs": [
        {
          "output_type": "stream",
          "text": [
            "['1995-1996', 'Chicago Bulls', 'Phil Jackson', [72, 10], ['Ron Harper', 'Michael Jordan', 'Scottie Pippen', 'Dennis Rodman', 'Luc Longley'], True]\n",
            "<class 'list'>\n"
          ],
          "name": "stdout"
        }
      ]
    },
    {
      "cell_type": "code",
      "metadata": {
        "colab": {
          "base_uri": "https://localhost:8080/"
        },
        "id": "Cw839JoylxtF",
        "outputId": "975e9b4f-1b25-49d8-e124-f6e1ce6bd02e"
      },
      "source": [
        "# indexing 索引\n",
        "print(best_NBA[-2])\n",
        "\n",
        "# slicing 切片\n",
        "print(best_NBA[0:3])"
      ],
      "execution_count": 48,
      "outputs": [
        {
          "output_type": "stream",
          "text": [
            "['Ron Harper', 'Michael Jordan', 'Scottie Pippen', 'Dennis Rodman', 'Luc Longley']\n",
            "['1995-1996', 'Chicago Bulls', 'Phil Jackson']\n"
          ],
          "name": "stdout"
        }
      ]
    },
    {
      "cell_type": "markdown",
      "metadata": {
        "id": "F9_XMPLkpjjz"
      },
      "source": [
        "# **range**\n",
        "range(初值，終值，遞增值)\n"
      ]
    },
    {
      "cell_type": "code",
      "metadata": {
        "colab": {
          "base_uri": "https://localhost:8080/"
        },
        "id": "am5Bsnj_po4m",
        "outputId": "fe67b2d6-ee32-454c-c23a-9c6b342b0317"
      },
      "source": [
        "# [0,1,2,3,4]\n",
        "a = range(5) # range(0,5,1)\n",
        "print(a[0], a[1], a[2], a[3], a[4])\n",
        "\n",
        "# [2,3,4,5]\n",
        "b = range(2, 6) #range(2,6,1)\n",
        "print(b[0], b[1], b[2], b[3])\n",
        "\n",
        "# [2,5,8]\n",
        "c = range(2, 10, 3)\n",
        "print(c[0],c[1],c[2])\n",
        "\n",
        "# [10,8,6,4]\n",
        "d = range(10, 3, -2)\n",
        "print(d[0],d[1],d[2],d[3])"
      ],
      "execution_count": 28,
      "outputs": [
        {
          "output_type": "stream",
          "text": [
            "0 1 2 3 4\n",
            "2 3 4 5\n",
            "2 5 8\n",
            "10 8 6 4\n"
          ],
          "name": "stdout"
        }
      ]
    },
    {
      "cell_type": "markdown",
      "metadata": {
        "id": "cbbePHzXvRd4"
      },
      "source": [
        "## **隨堂練習3**"
      ]
    },
    {
      "cell_type": "code",
      "metadata": {
        "colab": {
          "base_uri": "https://localhost:8080/"
        },
        "id": "oeabtFjHuv-V",
        "outputId": "47c9fe78-9555-473c-dcd4-d3414cb7b586"
      },
      "source": [
        "# [0,1,2,3,4,5,6,7,8,9]\n",
        "e = range(0, 10, 1)\n",
        "print(e[0],e[1],e[2],e[3],e[4],e[5],e[6],e[7],e[8],e[9])"
      ],
      "execution_count": 27,
      "outputs": [
        {
          "output_type": "stream",
          "text": [
            "0 1 2 3 4 5 6 7 8 9\n"
          ],
          "name": "stdout"
        }
      ]
    },
    {
      "cell_type": "code",
      "metadata": {
        "colab": {
          "base_uri": "https://localhost:8080/"
        },
        "id": "ZBq1OC7Cvyql",
        "outputId": "facb4824-30fb-4fae-c33f-f2b286c1e081"
      },
      "source": [
        "# [0,2,4,6,8]\n",
        "f = range(0, 12, 2)\n",
        "print(f[0],f[1],f[2],f[3],f[4])"
      ],
      "execution_count": 33,
      "outputs": [
        {
          "output_type": "stream",
          "text": [
            "0 2 4 6 8\n"
          ],
          "name": "stdout"
        }
      ]
    },
    {
      "cell_type": "code",
      "metadata": {
        "colab": {
          "base_uri": "https://localhost:8080/"
        },
        "id": "_ms16CK3wT1K",
        "outputId": "c30cdbea-7ac6-436a-e08b-0b542ef21e14"
      },
      "source": [
        "# [5,7,9]\n",
        "g = range(5, 10, 2)\n",
        "print(g[0],g[1],g[2])"
      ],
      "execution_count": 34,
      "outputs": [
        {
          "output_type": "stream",
          "text": [
            "5 7 9\n"
          ],
          "name": "stdout"
        }
      ]
    },
    {
      "cell_type": "code",
      "metadata": {
        "colab": {
          "base_uri": "https://localhost:8080/"
        },
        "id": "MThBvDfawuQg",
        "outputId": "af4fb94e-3631-4a1c-d339-b5f5ecc7b965"
      },
      "source": [
        "# [0,-1,-2,-3,-4,-5,-6,-7,-8,-9]\n",
        "h = range(0, -10, -1)\n",
        "print(h[0],h[1],h[2],h[3],h[4],h[5],h[6],h[7],h[8],h[9])"
      ],
      "execution_count": 35,
      "outputs": [
        {
          "output_type": "stream",
          "text": [
            "0 -1 -2 -3 -4 -5 -6 -7 -8 -9\n"
          ],
          "name": "stdout"
        }
      ]
    },
    {
      "cell_type": "markdown",
      "metadata": {
        "id": "KceKOEQt0bab"
      },
      "source": [
        "## **期末專題分組報告名單**"
      ]
    },
    {
      "cell_type": "code",
      "metadata": {
        "id": "rfZDcetlxZJT"
      },
      "source": [
        "# 期末專題分組報告名單\n",
        "project_title = \"電影購票系統\"\n",
        "name_list = ['梁薺','陳漢杰','蔡奕竹']\n",
        "number_list = ['A106260049', 'A106260065', 'A108310033']\n",
        "duty_list = [\"專題想法與程式撰寫\",\"專題想法與程式撰寫\",\"專題想法與程式撰寫\"] #初步擬定\n",
        "load_list = [33,33,34] "
      ],
      "execution_count": 47,
      "outputs": []
    },
    {
      "cell_type": "code",
      "metadata": {
        "colab": {
          "base_uri": "https://localhost:8080/"
        },
        "id": "CVfesEgD2JiR",
        "outputId": "011f9468-8870-4c62-8b37-0dd683feeda6"
      },
      "source": [
        "分組名單 = list((project_title, name_list, number_list, duty_list, load_list))\n",
        "print(分組名單)"
      ],
      "execution_count": 51,
      "outputs": [
        {
          "output_type": "stream",
          "text": [
            "['電影購票系統', ['梁薺', '陳漢杰', '蔡奕竹'], ['A106260049', 'A106260065', 'A108310033'], ['專題想法與程式撰寫', '專題想法與程式撰寫', '專題想法與程式撰寫'], [33, 33, 34]]\n"
          ],
          "name": "stdout"
        }
      ]
    },
    {
      "cell_type": "code",
      "metadata": {
        "colab": {
          "base_uri": "https://localhost:8080/"
        },
        "id": "-eC8jQM53A6n",
        "outputId": "2e2bd19b-7b28-4b2b-e499-cf621895d5de"
      },
      "source": [
        "print(name_list[0]) #組長姓名\n",
        "print(number_list[0]) #組長學號\n",
        "print(duty_list[0]) #組長負責工作\n",
        "print(load_list[0]) #組長工作比重"
      ],
      "execution_count": 56,
      "outputs": [
        {
          "output_type": "stream",
          "text": [
            "梁薺\n",
            "A106260049\n",
            "專題想法與程式撰寫\n",
            "33\n"
          ],
          "name": "stdout"
        }
      ]
    }
  ]
}