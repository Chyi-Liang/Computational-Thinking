{
  "nbformat": 4,
  "nbformat_minor": 0,
  "metadata": {
    "colab": {
      "name": "109-1運算思維學期報告.ipynb",
      "provenance": [],
      "authorship_tag": "ABX9TyNWj/Dwh64QKwPVNCX0SEFm",
      "include_colab_link": true
    },
    "kernelspec": {
      "name": "python3",
      "display_name": "Python 3"
    }
  },
  "cells": [
    {
      "cell_type": "markdown",
      "metadata": {
        "id": "view-in-github",
        "colab_type": "text"
      },
      "source": [
        "<a href=\"https://colab.research.google.com/github/Chyi-Liang/Computational-Thinking/blob/master/109_1%E9%81%8B%E7%AE%97%E6%80%9D%E7%B6%AD%E5%AD%B8%E6%9C%9F%E5%A0%B1%E5%91%8A.ipynb\" target=\"_parent\"><img src=\"https://colab.research.google.com/assets/colab-badge.svg\" alt=\"Open In Colab\"/></a>"
      ]
    },
    {
      "cell_type": "markdown",
      "metadata": {
        "id": "gRLZZaNGulUY"
      },
      "source": [
        "# **分組名單**"
      ]
    },
    {
      "cell_type": "code",
      "metadata": {
        "id": "pW7bS189uuaw"
      },
      "source": [
        "# 期末專題分組報告名單\n",
        "project_title = \"電影購票系統\"\n",
        "name_list = ['梁薺','陳漢杰','蔡奕竹']\n",
        "number_list = ['A106260049', 'A106260065', 'A108310033']\n",
        "duty_list = [\"專題構想與整合,程式撰寫:3.電影院購票,\",\"程式撰寫:2.購票選擇,腳本內容\",\"程式撰寫:1.姊妹討論行程\"] \n",
        "load_list = [40,30,30] "
      ],
      "execution_count": 52,
      "outputs": []
    },
    {
      "cell_type": "code",
      "metadata": {
        "colab": {
          "base_uri": "https://localhost:8080/"
        },
        "id": "OFxD-r1QxFaP",
        "outputId": "ef525f16-7aa6-4a62-f806-ed081406b5ff"
      },
      "source": [
        "分組名單 = list((project_title, name_list, number_list, duty_list, load_list))\n",
        "print(分組名單)"
      ],
      "execution_count": 53,
      "outputs": [
        {
          "output_type": "stream",
          "text": [
            "['電影購票系統', ['梁薺', '陳漢杰', '蔡奕竹'], ['A106260049', 'A106260065', 'A108310033'], ['專題構想與整合,程式撰寫:3.電影院購票,', '程式撰寫:2.購票選擇,腳本內容', '程式撰寫:1.姊妹討論行程'], [40, 30, 30]]\n"
          ],
          "name": "stdout"
        }
      ]
    },
    {
      "cell_type": "code",
      "metadata": {
        "colab": {
          "base_uri": "https://localhost:8080/"
        },
        "id": "ZYzm94zXxHs7",
        "outputId": "7cff2b42-ab89-4caf-a574-16bd5866b35e"
      },
      "source": [
        "print(name_list[0]) #組長姓名\n",
        "print(number_list[0]) #組長學號\n",
        "print(duty_list[0]) #組長負責工作\n",
        "print(load_list[0]) #組長工作比重"
      ],
      "execution_count": 54,
      "outputs": [
        {
          "output_type": "stream",
          "text": [
            "梁薺\n",
            "A106260049\n",
            "專題構想與整合,程式撰寫:3.電影院購票,\n",
            "40\n"
          ],
          "name": "stdout"
        }
      ]
    },
    {
      "cell_type": "markdown",
      "metadata": {
        "id": "GQZHJb39xPes"
      },
      "source": [
        "# **腳本**"
      ]
    },
    {
      "cell_type": "code",
      "metadata": {
        "colab": {
          "base_uri": "https://localhost:8080/"
        },
        "id": "XJ4wI-8cxYUJ",
        "outputId": "9d7f13eb-29cc-48ac-9747-f90a1fdae3e8"
      },
      "source": [
        "print(\"在疫情快速上升且全國大流行風險，即便是低風險的國家，無一不受影響，人們心中的芥蒂與恐慌，使得人與人接觸機會下降，在服務為重的社會中，是時候避免語言溝通時，飛沫感染；使我們有個想法為，購物流程中，採取自助化，以機械代替人們，降低交叉感染的風險，而我們以電影為例，進而討論電影產業，電腦資訊化的優勢，如電影正確的資訊度、信用卡優惠、票價組合、以自己需求達到最有效的方案。\")"
      ],
      "execution_count": 55,
      "outputs": [
        {
          "output_type": "stream",
          "text": [
            "在疫情快速上升且全國大流行風險，即便是低風險的國家，無一不受影響，人們心中的芥蒂與恐慌，使得人與人接觸機會下降，在服務為重的社會中，是時候避免語言溝通時，飛沫感染；使我們有個想法為，購物流程中，採取自助化，以機械代替人們，降低交叉感染的風險，而我們以電影為例，進而討論電影產業，電腦資訊化的優勢，如電影正確的資訊度、信用卡優惠、票價組合、以自己需求達到最有效的方案。\n"
          ],
          "name": "stdout"
        }
      ]
    },
    {
      "cell_type": "markdown",
      "metadata": {
        "id": "Th33LoPrwez1"
      },
      "source": [
        "## **程式碼與執行結果**"
      ]
    },
    {
      "cell_type": "markdown",
      "metadata": {
        "id": "DSFF_3XobuRj"
      },
      "source": [
        "**1.姊妹討論行程**"
      ]
    },
    {
      "cell_type": "code",
      "metadata": {
        "colab": {
          "base_uri": "https://localhost:8080/"
        },
        "id": "JCqTGkObcTYj",
        "outputId": "c6583c3e-51dc-41be-9510-75fe27041bf6"
      },
      "source": [
        "name1 = input(\"姊姊的名字是什麼? : \")\n",
        "name2 = input(\"妹妹的名字是什麼? : \")"
      ],
      "execution_count": 40,
      "outputs": [
        {
          "output_type": "stream",
          "text": [
            "姊姊的名字是什麼? : 珊迪\n",
            "妹妹的名字是什麼? : 朱蒂\n"
          ],
          "name": "stdout"
        }
      ]
    },
    {
      "cell_type": "code",
      "metadata": {
        "colab": {
          "base_uri": "https://localhost:8080/"
        },
        "id": "oNic5TvscalQ",
        "outputId": "7c325d8c-c10b-4472-8eb9-099d59bd9477"
      },
      "source": [
        "print(name1,\":晚上好無聊哦…今天天氣很好欸！要不要一起出門呀？\")\n",
        "print(name2,\":可是好冷…我不想出門啦！比較想叫foodpanda…然後在家廢！\")\n",
        "print(name1,\":還是我們去看電影！電影院很溫暖的！\")\n",
        "print(name2,\":可是現在疫情那麼嚴重！你都不會怕嗎? 電影院是密閉空間欸…\")\n",
        "print(name1,\":全程戴著口罩，還有用酒精消毒雙手就好啦！而且工作人員會幫我們量體溫，免驚啦！\")\n",
        "print(name2,\":那我們要看哪一部?有什麼好看的嗎?\")\n",
        "movie_title = input(\"想看什麼電影? : \")\n",
        "print(name1,\":我想看\",movie_title,\"大學同學跟我說很推！\")\n",
        "print(name2,\":好啊!真是難得，你說的這部我剛好也想看!\")\n",
        "print(name1,\":那我來查一下影片資訊！\")"
      ],
      "execution_count": 41,
      "outputs": [
        {
          "output_type": "stream",
          "text": [
            "珊迪 :晚上好無聊哦…今天天氣很好欸！要不要一起出門呀？\n",
            "朱蒂 :可是好冷…我不想出門啦！比較想叫foodpanda…然後在家廢！\n",
            "珊迪 :還是我們去看電影！電影院很溫暖的！\n",
            "朱蒂 :可是現在疫情那麼嚴重！你都不會怕嗎? 電影院是密閉空間欸…\n",
            "珊迪 :全程戴著口罩，還有用酒精消毒雙手就好啦！而且工作人員會幫我們量體溫，免驚啦！\n",
            "朱蒂 :那我們要看哪一部?有什麼好看的嗎?\n",
            "想看什麼電影? : 飢餓遊戲：自由幻夢I\n",
            "珊迪 :我想看 飢餓遊戲：自由幻夢I 大學同學跟我說很推！\n",
            "朱蒂 :好啊!真是難得，你說的這部我剛好也想看!\n",
            "珊迪 :那我來查一下影片資訊！\n"
          ],
          "name": "stdout"
        }
      ]
    },
    {
      "cell_type": "code",
      "metadata": {
        "colab": {
          "base_uri": "https://localhost:8080/"
        },
        "id": "tA7_V6w3cd7f",
        "outputId": "d0a6bb74-59f3-4133-9c21-aee4c8386cd1"
      },
      "source": [
        "release_year = \"西元2014年\"\n",
        "movie_time_min = \"123分鐘\"\n",
        "movie_rating = \"6.6\"\n",
        "\n",
        "director = \"Francis Lawrence\" \n",
        "stars_1 = \"Jennifer Shrader Lawrence\"\n",
        "stars_2 = \"Donald Edward McNichol Sutherland\"\n",
        "stars_3 = \"Josh Hutcherson\"\n",
        "\n",
        "print(\"電影英文名稱\",movie_title) \n",
        "print(\"上映年分\",release_year)\n",
        "print(\"片長\",movie_time_min)\n",
        "print(\"評價\",movie_rating)\n",
        "print(\"導演\",director)\n",
        "print(\"演員有\",list ((stars_1, stars_2, stars_3)) )"
      ],
      "execution_count": 42,
      "outputs": [
        {
          "output_type": "stream",
          "text": [
            "電影英文名稱 飢餓遊戲：自由幻夢I\n",
            "上映年分 西元2014年\n",
            "片長 123分鐘\n",
            "評價 6.6\n",
            "導演 Francis Lawrence\n",
            "演員有 ['Jennifer Shrader Lawrence', 'Donald Edward McNichol Sutherland', 'Josh Hutcherson']\n"
          ],
          "name": "stdout"
        }
      ]
    },
    {
      "cell_type": "markdown",
      "metadata": {
        "id": "o7SY9U7RwTKg"
      },
      "source": [
        "2.**購票選擇**"
      ]
    },
    {
      "cell_type": "code",
      "metadata": {
        "colab": {
          "base_uri": "https://localhost:8080/"
        },
        "id": "uqUfhTMXevym",
        "outputId": "31f13e41-a513-4162-86b4-546db6a807fe"
      },
      "source": [
        "print(name1,\":那我們要不要找爸媽去？\")\n",
        "print(name2,\":好呀,那怎麼買比較划算呢？\")"
      ],
      "execution_count": 43,
      "outputs": [
        {
          "output_type": "stream",
          "text": [
            "珊迪 :那我們要不要找爸媽去？\n",
            "朱蒂 :好呀,那怎麼買比較划算呢？\n"
          ],
          "name": "stdout"
        }
      ]
    },
    {
      "cell_type": "code",
      "metadata": {
        "colab": {
          "base_uri": "https://localhost:8080/"
        },
        "id": "zeJtbiExcjRr",
        "outputId": "32bfdf0b-14a0-44f0-a3f3-08cf1b37509b"
      },
      "source": [
        "fare_category = ['早鳥票','全票','學生票','午夜票']\n",
        "print(name1,\": 票價有\",fare_category,)\n",
        "print(name2,\": 我們看晚餐後應該只能選\",fare_category[1],\"或\",fare_category[2])\n",
        "print(name1,\": 不然我們等等問一下他們刷什麼卡比較有優惠！\")\n",
        "print(name2,\": OK\")"
      ],
      "execution_count": 45,
      "outputs": [
        {
          "output_type": "stream",
          "text": [
            "珊迪 : 票價有 ['早鳥票', '全票', '學生票', '午夜票']\n",
            "朱蒂 : 我們看晚餐後應該只能選 全票 或 學生票\n",
            "珊迪 : 不然我們等等問一下他們刷什麼卡比較有優惠！\n",
            "朱蒂 : OK\n"
          ],
          "name": "stdout"
        }
      ]
    },
    {
      "cell_type": "markdown",
      "metadata": {
        "id": "zxJq9iQRNzdM"
      },
      "source": [
        "**3.電影院購票**"
      ]
    },
    {
      "cell_type": "code",
      "metadata": {
        "colab": {
          "base_uri": "https://localhost:8080/"
        },
        "id": "uOLtbeuFKMj7",
        "outputId": "d3f20648-6f75-4eba-d83f-ae9b77f652a8"
      },
      "source": [
        "print( str(2021) +   \"Happy New Year! 請問要看哪一部電影？ \" )\n",
        "print('我們要看',movie_title)\n",
        "ordinary_number = int(input('請問普通票的數量'))\n",
        "student_number = int(input('請問學生票的訂購數量'))"
      ],
      "execution_count": 46,
      "outputs": [
        {
          "output_type": "stream",
          "text": [
            "2021Happy New Year! 請問要看哪一部電影？ \n",
            "我們要看 飢餓遊戲：自由幻夢I\n",
            "請問普通票的數量2\n",
            "請問學生票的訂購數量2\n"
          ],
          "name": "stdout"
        }
      ]
    },
    {
      "cell_type": "code",
      "metadata": {
        "colab": {
          "base_uri": "https://localhost:8080/"
        },
        "id": "RIUxDkdmOEhf",
        "outputId": "69057ce0-7275-466c-b419-f059dda157ad"
      },
      "source": [
        "Total_dollar = ordinary_number*270 + student_number*230\n",
        "print('電影票的總金額為',Total_dollar)"
      ],
      "execution_count": 47,
      "outputs": [
        {
          "output_type": "stream",
          "text": [
            "電影票的總金額為 1000\n"
          ],
          "name": "stdout"
        }
      ]
    },
    {
      "cell_type": "code",
      "metadata": {
        "colab": {
          "base_uri": "https://localhost:8080/"
        },
        "id": "zsA5saSQ9VYC",
        "outputId": "f07a5697-6e34-4cd0-fb04-621100b4d6cb"
      },
      "source": [
        "print(name1,':請問是否有信用卡搭配方案')\n",
        "print('有的，現在使用中信卡的優惠剛好是普通票三人同行一人免費')\n",
        "print(name1,':這樣總共是多少錢？')\n",
        "ordinary_num = int(input('請問總共幾個人？'))\n",
        "ordinary_Integer_3 = ordinary_num // 3\n",
        "ordinary_Integer_4 = ordinary_num // 4\n",
        "ordinary_remainder_4 = ordinary_num % 4\n",
        "ticket_number = 3*ordinary_Integer_4 + (ordinary_num - 4*ordinary_Integer_4)\n",
        "total_ticket_cost = 270* ticket_number\n",
        "print('總共是',total_ticket_cost)\n",
        "print(name1,':平均一人是多少錢？')\n",
        "import math\n",
        "## Input\n",
        "total = int(total_ticket_cost)\n",
        "\n",
        "## Process\n",
        "avg = math.ceil(total/ordinary_num)\n",
        "\n",
        "## Output\n",
        "print(\"平均一人大約是\", avg)\n",
        "gap = Total_dollar//(ordinary_number + student_number) - avg\n",
        "print(name1,':聽起來滿划算的！')\n",
        "print('是呀！這樣一個人可以省',gap,'元')\n",
        "print(name1,':好的，那我要刷卡')"
      ],
      "execution_count": 48,
      "outputs": [
        {
          "output_type": "stream",
          "text": [
            "珊迪 :請問是否有信用卡搭配方案\n",
            "有的，現在使用中信卡的優惠剛好是普通票三人同行一人免費\n",
            "珊迪 :這樣總共是多少錢？\n",
            "請問總共幾個人？4\n",
            "總共是 810\n",
            "珊迪 :平均一人是多少錢？\n",
            "平均一人大約是 203\n",
            "珊迪 :聽起來滿划算的！\n",
            "是呀！這樣一個人可以省 47 元\n",
            "珊迪 :好的，那我要刷卡\n"
          ],
          "name": "stdout"
        }
      ]
    },
    {
      "cell_type": "code",
      "metadata": {
        "colab": {
          "base_uri": "https://localhost:8080/"
        },
        "id": "DkDfXQbo6lX6",
        "outputId": "62ff06a6-ee4c-4fbe-86d2-694fc09f8ef7"
      },
      "source": [
        "print('那需不需要搭配飲料與可樂，現在搭配包含三個套餐以上皆打八折')\n",
        "print(name1,':原本一份多少錢？')\n",
        "dessert_cost = 60\n",
        "print('一份原價',dessert_cost)\n",
        "print(name1,':好，那我要')\n",
        "dessert_num = int(input('請問總共要幾份？'))\n",
        "if dessert_num >=3  :\n",
        "    total_cost = total_ticket_cost + 60*dessert_num*0.8\n",
        "else:   \n",
        "    total_cost = total_ticket_cost + 60*dessert_num \n",
        "print('好的,這樣連電影票總共是',total_cost,'元,謝謝光臨！')\n"
      ],
      "execution_count": 49,
      "outputs": [
        {
          "output_type": "stream",
          "text": [
            "那需不需要搭配飲料與可樂，現在搭配包含三個套餐以上皆打八折\n",
            "珊迪 :原本一份多少錢？\n",
            "一份原價 60\n",
            "珊迪 :好，那我要\n",
            "請問總共要幾份？3\n",
            "好的,這樣連電影票總共是 954.0 元,謝謝光臨！\n"
          ],
          "name": "stdout"
        }
      ]
    }
  ]
}